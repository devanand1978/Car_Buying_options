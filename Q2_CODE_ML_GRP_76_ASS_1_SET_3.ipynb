{
 "cells": [
  {
   "cell_type": "markdown",
   "metadata": {},
   "source": [
    "### ML ASSIGNMENT 1 SET 3 QUESTION 2\n",
    "#### WORK NEED TO DO AS FOLLOWING:\n",
    "##### 1. Import the data dataset from https://archive.ics.uci.edu/ml/machine-learning-databases/car/ (Links to an external site.)\n",
    "##### 2. Extract X as all columns except the last column and Y as last column. \n",
    "##### 3. Visualize the dataset using any two appropriate graphs. \n",
    "##### 4. Visualize the correlation between all the variables of dataset. \n",
    "##### 5. Split the data into training set and testing set.Perform 10-fold cross validation.\n",
    "##### 6. Train a Logistic regression model for the dataset.\n",
    "##### 7. Compute the accuracy and confusion matrix.\n",
    "##### 8. Predict and display the class label of a car with following attributes : buying, maint, doors, persons, lug_boot, safety as [vhigh,low,4,more,small,med]."
   ]
  },
  {
   "cell_type": "markdown",
   "metadata": {},
   "source": [
    "##### Importing all required libraries"
   ]
  },
  {
   "cell_type": "code",
   "execution_count": 168,
   "metadata": {},
   "outputs": [],
   "source": [
    "import numpy as np # linear algebra\n",
    "import pandas as pd # data processing, CSV file I/O (e.g. pd.read_csv)\n",
    "import seaborn as sns\n",
    "import matplotlib.pyplot as plt \n",
    "from sklearn.linear_model import LinearRegression\n",
    "from sklearn.model_selection import KFold \n",
    "from sklearn.linear_model import LogisticRegression\n",
    "from sklearn.metrics import accuracy_score\n",
    "from sklearn.metrics import classification_report\n",
    "from sklearn.metrics import confusion_matrix\n",
    "from sklearn.metrics import ConfusionMatrixDisplay\n",
    "import warnings\n",
    "warnings.filterwarnings('ignore')\n",
    "%matplotlib inline\n",
    "import os"
   ]
  },
  {
   "cell_type": "markdown",
   "metadata": {},
   "source": [
    "##### 1. Import the dataset from https://archive.ics.uci.edu/ml/machine-learning-databases/car/   (Links ##### to an external site.)(Hint: Convert txt to csv for ease of use.)"
   ]
  },
  {
   "cell_type": "code",
   "execution_count": 169,
   "metadata": {},
   "outputs": [
    {
     "name": "stdout",
     "output_type": "stream",
     "text": [
      "C:\\Users\\kdevanand\\ML\n"
     ]
    },
    {
     "data": {
      "text/html": [
       "<div>\n",
       "<style scoped>\n",
       "    .dataframe tbody tr th:only-of-type {\n",
       "        vertical-align: middle;\n",
       "    }\n",
       "\n",
       "    .dataframe tbody tr th {\n",
       "        vertical-align: top;\n",
       "    }\n",
       "\n",
       "    .dataframe thead th {\n",
       "        text-align: right;\n",
       "    }\n",
       "</style>\n",
       "<table border=\"1\" class=\"dataframe\">\n",
       "  <thead>\n",
       "    <tr style=\"text-align: right;\">\n",
       "      <th></th>\n",
       "      <th>buying</th>\n",
       "      <th>maint</th>\n",
       "      <th>persons</th>\n",
       "      <th>doors</th>\n",
       "      <th>lug_boot</th>\n",
       "      <th>safety</th>\n",
       "      <th>acceptability</th>\n",
       "    </tr>\n",
       "  </thead>\n",
       "  <tbody>\n",
       "    <tr>\n",
       "      <th>0</th>\n",
       "      <td>vhigh</td>\n",
       "      <td>vhigh</td>\n",
       "      <td>2</td>\n",
       "      <td>2</td>\n",
       "      <td>small</td>\n",
       "      <td>low</td>\n",
       "      <td>unacc</td>\n",
       "    </tr>\n",
       "    <tr>\n",
       "      <th>1</th>\n",
       "      <td>vhigh</td>\n",
       "      <td>vhigh</td>\n",
       "      <td>2</td>\n",
       "      <td>2</td>\n",
       "      <td>small</td>\n",
       "      <td>med</td>\n",
       "      <td>unacc</td>\n",
       "    </tr>\n",
       "    <tr>\n",
       "      <th>2</th>\n",
       "      <td>vhigh</td>\n",
       "      <td>vhigh</td>\n",
       "      <td>2</td>\n",
       "      <td>2</td>\n",
       "      <td>small</td>\n",
       "      <td>high</td>\n",
       "      <td>unacc</td>\n",
       "    </tr>\n",
       "    <tr>\n",
       "      <th>3</th>\n",
       "      <td>vhigh</td>\n",
       "      <td>vhigh</td>\n",
       "      <td>2</td>\n",
       "      <td>2</td>\n",
       "      <td>med</td>\n",
       "      <td>low</td>\n",
       "      <td>unacc</td>\n",
       "    </tr>\n",
       "    <tr>\n",
       "      <th>4</th>\n",
       "      <td>vhigh</td>\n",
       "      <td>vhigh</td>\n",
       "      <td>2</td>\n",
       "      <td>2</td>\n",
       "      <td>med</td>\n",
       "      <td>med</td>\n",
       "      <td>unacc</td>\n",
       "    </tr>\n",
       "    <tr>\n",
       "      <th>5</th>\n",
       "      <td>vhigh</td>\n",
       "      <td>vhigh</td>\n",
       "      <td>2</td>\n",
       "      <td>2</td>\n",
       "      <td>med</td>\n",
       "      <td>high</td>\n",
       "      <td>unacc</td>\n",
       "    </tr>\n",
       "    <tr>\n",
       "      <th>6</th>\n",
       "      <td>vhigh</td>\n",
       "      <td>vhigh</td>\n",
       "      <td>2</td>\n",
       "      <td>2</td>\n",
       "      <td>big</td>\n",
       "      <td>low</td>\n",
       "      <td>unacc</td>\n",
       "    </tr>\n",
       "    <tr>\n",
       "      <th>7</th>\n",
       "      <td>vhigh</td>\n",
       "      <td>vhigh</td>\n",
       "      <td>2</td>\n",
       "      <td>2</td>\n",
       "      <td>big</td>\n",
       "      <td>med</td>\n",
       "      <td>unacc</td>\n",
       "    </tr>\n",
       "    <tr>\n",
       "      <th>8</th>\n",
       "      <td>vhigh</td>\n",
       "      <td>vhigh</td>\n",
       "      <td>2</td>\n",
       "      <td>2</td>\n",
       "      <td>big</td>\n",
       "      <td>high</td>\n",
       "      <td>unacc</td>\n",
       "    </tr>\n",
       "    <tr>\n",
       "      <th>9</th>\n",
       "      <td>vhigh</td>\n",
       "      <td>vhigh</td>\n",
       "      <td>2</td>\n",
       "      <td>4</td>\n",
       "      <td>small</td>\n",
       "      <td>low</td>\n",
       "      <td>unacc</td>\n",
       "    </tr>\n",
       "    <tr>\n",
       "      <th>10</th>\n",
       "      <td>vhigh</td>\n",
       "      <td>vhigh</td>\n",
       "      <td>2</td>\n",
       "      <td>4</td>\n",
       "      <td>small</td>\n",
       "      <td>med</td>\n",
       "      <td>unacc</td>\n",
       "    </tr>\n",
       "    <tr>\n",
       "      <th>11</th>\n",
       "      <td>vhigh</td>\n",
       "      <td>vhigh</td>\n",
       "      <td>2</td>\n",
       "      <td>4</td>\n",
       "      <td>small</td>\n",
       "      <td>high</td>\n",
       "      <td>unacc</td>\n",
       "    </tr>\n",
       "    <tr>\n",
       "      <th>12</th>\n",
       "      <td>vhigh</td>\n",
       "      <td>vhigh</td>\n",
       "      <td>2</td>\n",
       "      <td>4</td>\n",
       "      <td>med</td>\n",
       "      <td>low</td>\n",
       "      <td>unacc</td>\n",
       "    </tr>\n",
       "    <tr>\n",
       "      <th>13</th>\n",
       "      <td>vhigh</td>\n",
       "      <td>vhigh</td>\n",
       "      <td>2</td>\n",
       "      <td>4</td>\n",
       "      <td>med</td>\n",
       "      <td>med</td>\n",
       "      <td>unacc</td>\n",
       "    </tr>\n",
       "    <tr>\n",
       "      <th>14</th>\n",
       "      <td>vhigh</td>\n",
       "      <td>vhigh</td>\n",
       "      <td>2</td>\n",
       "      <td>4</td>\n",
       "      <td>med</td>\n",
       "      <td>high</td>\n",
       "      <td>unacc</td>\n",
       "    </tr>\n",
       "    <tr>\n",
       "      <th>15</th>\n",
       "      <td>vhigh</td>\n",
       "      <td>vhigh</td>\n",
       "      <td>2</td>\n",
       "      <td>4</td>\n",
       "      <td>big</td>\n",
       "      <td>low</td>\n",
       "      <td>unacc</td>\n",
       "    </tr>\n",
       "    <tr>\n",
       "      <th>16</th>\n",
       "      <td>vhigh</td>\n",
       "      <td>vhigh</td>\n",
       "      <td>2</td>\n",
       "      <td>4</td>\n",
       "      <td>big</td>\n",
       "      <td>med</td>\n",
       "      <td>unacc</td>\n",
       "    </tr>\n",
       "    <tr>\n",
       "      <th>17</th>\n",
       "      <td>vhigh</td>\n",
       "      <td>vhigh</td>\n",
       "      <td>2</td>\n",
       "      <td>4</td>\n",
       "      <td>big</td>\n",
       "      <td>high</td>\n",
       "      <td>unacc</td>\n",
       "    </tr>\n",
       "    <tr>\n",
       "      <th>18</th>\n",
       "      <td>vhigh</td>\n",
       "      <td>vhigh</td>\n",
       "      <td>2</td>\n",
       "      <td>more</td>\n",
       "      <td>small</td>\n",
       "      <td>low</td>\n",
       "      <td>unacc</td>\n",
       "    </tr>\n",
       "    <tr>\n",
       "      <th>19</th>\n",
       "      <td>vhigh</td>\n",
       "      <td>vhigh</td>\n",
       "      <td>2</td>\n",
       "      <td>more</td>\n",
       "      <td>small</td>\n",
       "      <td>med</td>\n",
       "      <td>unacc</td>\n",
       "    </tr>\n",
       "  </tbody>\n",
       "</table>\n",
       "</div>"
      ],
      "text/plain": [
       "   buying  maint persons doors lug_boot safety acceptability\n",
       "0   vhigh  vhigh       2     2    small    low         unacc\n",
       "1   vhigh  vhigh       2     2    small    med         unacc\n",
       "2   vhigh  vhigh       2     2    small   high         unacc\n",
       "3   vhigh  vhigh       2     2      med    low         unacc\n",
       "4   vhigh  vhigh       2     2      med    med         unacc\n",
       "5   vhigh  vhigh       2     2      med   high         unacc\n",
       "6   vhigh  vhigh       2     2      big    low         unacc\n",
       "7   vhigh  vhigh       2     2      big    med         unacc\n",
       "8   vhigh  vhigh       2     2      big   high         unacc\n",
       "9   vhigh  vhigh       2     4    small    low         unacc\n",
       "10  vhigh  vhigh       2     4    small    med         unacc\n",
       "11  vhigh  vhigh       2     4    small   high         unacc\n",
       "12  vhigh  vhigh       2     4      med    low         unacc\n",
       "13  vhigh  vhigh       2     4      med    med         unacc\n",
       "14  vhigh  vhigh       2     4      med   high         unacc\n",
       "15  vhigh  vhigh       2     4      big    low         unacc\n",
       "16  vhigh  vhigh       2     4      big    med         unacc\n",
       "17  vhigh  vhigh       2     4      big   high         unacc\n",
       "18  vhigh  vhigh       2  more    small    low         unacc\n",
       "19  vhigh  vhigh       2  more    small    med         unacc"
      ]
     },
     "execution_count": 169,
     "metadata": {},
     "output_type": "execute_result"
    }
   ],
   "source": [
    "# Reading data set from current directory\n",
    "THIS_FOLDER=os.getcwd() #getting current working directory\n",
    "print(THIS_FOLDER)\n",
    "input_file = os.path.join(THIS_FOLDER, 'car_data.csv')\n",
    "data=pd.read_csv(input_file)\n",
    "data.head(20)"
   ]
  },
  {
   "cell_type": "markdown",
   "metadata": {},
   "source": [
    "##### 2. Extract X as all columns except the first column and Y as first column. "
   ]
  },
  {
   "cell_type": "code",
   "execution_count": 170,
   "metadata": {},
   "outputs": [
    {
     "name": "stdout",
     "output_type": "stream",
     "text": [
      "<class 'pandas.core.frame.DataFrame'>\n",
      "RangeIndex: 1728 entries, 0 to 1727\n",
      "Data columns (total 7 columns):\n",
      " #   Column         Non-Null Count  Dtype \n",
      "---  ------         --------------  ----- \n",
      " 0   buying         1728 non-null   object\n",
      " 1   maint          1728 non-null   object\n",
      " 2   persons        1728 non-null   object\n",
      " 3   doors          1728 non-null   object\n",
      " 4   lug_boot       1728 non-null   object\n",
      " 5   safety         1728 non-null   object\n",
      " 6   acceptability  1728 non-null   object\n",
      "dtypes: object(7)\n",
      "memory usage: 94.6+ KB\n"
     ]
    },
    {
     "data": {
      "text/html": [
       "<div>\n",
       "<style scoped>\n",
       "    .dataframe tbody tr th:only-of-type {\n",
       "        vertical-align: middle;\n",
       "    }\n",
       "\n",
       "    .dataframe tbody tr th {\n",
       "        vertical-align: top;\n",
       "    }\n",
       "\n",
       "    .dataframe thead th {\n",
       "        text-align: right;\n",
       "    }\n",
       "</style>\n",
       "<table border=\"1\" class=\"dataframe\">\n",
       "  <thead>\n",
       "    <tr style=\"text-align: right;\">\n",
       "      <th></th>\n",
       "      <th>buying</th>\n",
       "      <th>maint</th>\n",
       "      <th>persons</th>\n",
       "      <th>doors</th>\n",
       "      <th>lug_boot</th>\n",
       "      <th>safety</th>\n",
       "      <th>acceptability</th>\n",
       "      <th>buying_a</th>\n",
       "      <th>maint_a</th>\n",
       "      <th>lug_boot_a</th>\n",
       "      <th>safety_a</th>\n",
       "      <th>acceptability_a</th>\n",
       "    </tr>\n",
       "  </thead>\n",
       "  <tbody>\n",
       "    <tr>\n",
       "      <th>0</th>\n",
       "      <td>vhigh</td>\n",
       "      <td>vhigh</td>\n",
       "      <td>2</td>\n",
       "      <td>2</td>\n",
       "      <td>small</td>\n",
       "      <td>low</td>\n",
       "      <td>unacc</td>\n",
       "      <td>3</td>\n",
       "      <td>3</td>\n",
       "      <td>0</td>\n",
       "      <td>0</td>\n",
       "      <td>0</td>\n",
       "    </tr>\n",
       "    <tr>\n",
       "      <th>1</th>\n",
       "      <td>vhigh</td>\n",
       "      <td>vhigh</td>\n",
       "      <td>2</td>\n",
       "      <td>2</td>\n",
       "      <td>small</td>\n",
       "      <td>med</td>\n",
       "      <td>unacc</td>\n",
       "      <td>3</td>\n",
       "      <td>3</td>\n",
       "      <td>0</td>\n",
       "      <td>1</td>\n",
       "      <td>0</td>\n",
       "    </tr>\n",
       "    <tr>\n",
       "      <th>2</th>\n",
       "      <td>vhigh</td>\n",
       "      <td>vhigh</td>\n",
       "      <td>2</td>\n",
       "      <td>2</td>\n",
       "      <td>small</td>\n",
       "      <td>high</td>\n",
       "      <td>unacc</td>\n",
       "      <td>3</td>\n",
       "      <td>3</td>\n",
       "      <td>0</td>\n",
       "      <td>2</td>\n",
       "      <td>0</td>\n",
       "    </tr>\n",
       "    <tr>\n",
       "      <th>3</th>\n",
       "      <td>vhigh</td>\n",
       "      <td>vhigh</td>\n",
       "      <td>2</td>\n",
       "      <td>2</td>\n",
       "      <td>med</td>\n",
       "      <td>low</td>\n",
       "      <td>unacc</td>\n",
       "      <td>3</td>\n",
       "      <td>3</td>\n",
       "      <td>1</td>\n",
       "      <td>0</td>\n",
       "      <td>0</td>\n",
       "    </tr>\n",
       "    <tr>\n",
       "      <th>4</th>\n",
       "      <td>vhigh</td>\n",
       "      <td>vhigh</td>\n",
       "      <td>2</td>\n",
       "      <td>2</td>\n",
       "      <td>med</td>\n",
       "      <td>med</td>\n",
       "      <td>unacc</td>\n",
       "      <td>3</td>\n",
       "      <td>3</td>\n",
       "      <td>1</td>\n",
       "      <td>1</td>\n",
       "      <td>0</td>\n",
       "    </tr>\n",
       "    <tr>\n",
       "      <th>5</th>\n",
       "      <td>vhigh</td>\n",
       "      <td>vhigh</td>\n",
       "      <td>2</td>\n",
       "      <td>2</td>\n",
       "      <td>med</td>\n",
       "      <td>high</td>\n",
       "      <td>unacc</td>\n",
       "      <td>3</td>\n",
       "      <td>3</td>\n",
       "      <td>1</td>\n",
       "      <td>2</td>\n",
       "      <td>0</td>\n",
       "    </tr>\n",
       "    <tr>\n",
       "      <th>6</th>\n",
       "      <td>vhigh</td>\n",
       "      <td>vhigh</td>\n",
       "      <td>2</td>\n",
       "      <td>2</td>\n",
       "      <td>big</td>\n",
       "      <td>low</td>\n",
       "      <td>unacc</td>\n",
       "      <td>3</td>\n",
       "      <td>3</td>\n",
       "      <td>2</td>\n",
       "      <td>0</td>\n",
       "      <td>0</td>\n",
       "    </tr>\n",
       "    <tr>\n",
       "      <th>7</th>\n",
       "      <td>vhigh</td>\n",
       "      <td>vhigh</td>\n",
       "      <td>2</td>\n",
       "      <td>2</td>\n",
       "      <td>big</td>\n",
       "      <td>med</td>\n",
       "      <td>unacc</td>\n",
       "      <td>3</td>\n",
       "      <td>3</td>\n",
       "      <td>2</td>\n",
       "      <td>1</td>\n",
       "      <td>0</td>\n",
       "    </tr>\n",
       "    <tr>\n",
       "      <th>8</th>\n",
       "      <td>vhigh</td>\n",
       "      <td>vhigh</td>\n",
       "      <td>2</td>\n",
       "      <td>2</td>\n",
       "      <td>big</td>\n",
       "      <td>high</td>\n",
       "      <td>unacc</td>\n",
       "      <td>3</td>\n",
       "      <td>3</td>\n",
       "      <td>2</td>\n",
       "      <td>2</td>\n",
       "      <td>0</td>\n",
       "    </tr>\n",
       "    <tr>\n",
       "      <th>9</th>\n",
       "      <td>vhigh</td>\n",
       "      <td>vhigh</td>\n",
       "      <td>2</td>\n",
       "      <td>4</td>\n",
       "      <td>small</td>\n",
       "      <td>low</td>\n",
       "      <td>unacc</td>\n",
       "      <td>3</td>\n",
       "      <td>3</td>\n",
       "      <td>0</td>\n",
       "      <td>0</td>\n",
       "      <td>0</td>\n",
       "    </tr>\n",
       "  </tbody>\n",
       "</table>\n",
       "</div>"
      ],
      "text/plain": [
       "  buying  maint persons doors lug_boot safety acceptability  buying_a  \\\n",
       "0  vhigh  vhigh       2     2    small    low         unacc         3   \n",
       "1  vhigh  vhigh       2     2    small    med         unacc         3   \n",
       "2  vhigh  vhigh       2     2    small   high         unacc         3   \n",
       "3  vhigh  vhigh       2     2      med    low         unacc         3   \n",
       "4  vhigh  vhigh       2     2      med    med         unacc         3   \n",
       "5  vhigh  vhigh       2     2      med   high         unacc         3   \n",
       "6  vhigh  vhigh       2     2      big    low         unacc         3   \n",
       "7  vhigh  vhigh       2     2      big    med         unacc         3   \n",
       "8  vhigh  vhigh       2     2      big   high         unacc         3   \n",
       "9  vhigh  vhigh       2     4    small    low         unacc         3   \n",
       "\n",
       "   maint_a  lug_boot_a  safety_a  acceptability_a  \n",
       "0        3           0         0                0  \n",
       "1        3           0         1                0  \n",
       "2        3           0         2                0  \n",
       "3        3           1         0                0  \n",
       "4        3           1         1                0  \n",
       "5        3           1         2                0  \n",
       "6        3           2         0                0  \n",
       "7        3           2         1                0  \n",
       "8        3           2         2                0  \n",
       "9        3           0         0                0  "
      ]
     },
     "execution_count": 170,
     "metadata": {},
     "output_type": "execute_result"
    }
   ],
   "source": [
    "data.info()\n",
    "data.shape\n",
    "#Data definitionfor the string values\n",
    "buying = {'low':0,'med':1,'high':2,'vhigh':3}\n",
    "maint = {'low':0,'med':1,'high':2,'vhigh':3}\n",
    "lug_boot = {'small':0,'med':1,'big':2 }\n",
    "safety = {'low':0,'med':1,'high':2}\n",
    "acceptability = {'unacc':0,'acc':1,'good':2,'vgood':3}\n",
    "#Data converted to Numerical form for better processing\n",
    "data['buying_a'] = [buying[item] for item in data.buying]\n",
    "data['maint_a'] = [maint[item] for item in data.maint]\n",
    "data.persons[data.persons == 'more'] = 6\n",
    "data.doors[data.doors == 'more'] = 6\n",
    "data['lug_boot_a'] = [lug_boot[item] for item in data.lug_boot]\n",
    "data['safety_a'] = [safety[item] for item in data.safety]\n",
    "data['acceptability_a'] = [acceptability[item] for item in data.acceptability]\n",
    "\n",
    "data.head(10)"
   ]
  },
  {
   "cell_type": "code",
   "execution_count": 171,
   "metadata": {},
   "outputs": [
    {
     "name": "stdout",
     "output_type": "stream",
     "text": [
      "MAINTENANCE ARRAY :  [[3]\n",
      " [3]\n",
      " [3]\n",
      " ...\n",
      " [0]\n",
      " [0]\n",
      " [0]]\n",
      "\n",
      "ACCEPTABILITY ARRAY :  [0 0 0 ... 0 2 3]\n"
     ]
    }
   ],
   "source": [
    "x = np.array(data['maint_a']).reshape((-1,1))\n",
    "print(\"MAINTENANCE ARRAY : \",x)\n",
    "y = np.array(data['acceptability_a'])\n",
    "print(\"\\nACCEPTABILITY ARRAY : \",y)"
   ]
  },
  {
   "cell_type": "markdown",
   "metadata": {},
   "source": [
    "##### 3. Visualize the dataset. "
   ]
  },
  {
   "cell_type": "code",
   "execution_count": 172,
   "metadata": {},
   "outputs": [
    {
     "data": {
      "text/plain": [
       "<matplotlib.axes._subplots.AxesSubplot at 0x1b1929a42b0>"
      ]
     },
     "execution_count": 172,
     "metadata": {},
     "output_type": "execute_result"
    },
    {
     "data": {
      "image/png": "[encoded data removed]",
      "text/plain": [
       "<Figure size 432x288 with 1 Axes>"
      ]
     },
     "metadata": {
      "needs_background": "light"
     },
     "output_type": "display_data"
    }
   ],
   "source": [
    "data.boxplot(column=[\"acceptability_a\", \"buying_a\",'lug_boot_a','safety_a'])"
   ]
  },
  {
   "cell_type": "code",
   "execution_count": 173,
   "metadata": {},
   "outputs": [
    {
     "data": {
      "image/png": "[encoded data removed]",
      "text/plain": [
       "<Figure size 1440x504 with 1 Axes>"
      ]
     },
     "metadata": {
      "needs_background": "light"
     },
     "output_type": "display_data"
    }
   ],
   "source": [
    "plt.figure(figsize = (20,7))\n",
    "plt.plot(data[\"buying\"], data[\"acceptability_a\"])\n",
    "plt.xticks(rotation = 90)\n",
    "plt.xlabel(\"BUYING : --->\")\n",
    "plt.ylabel(\"ACCEPTBILITY : --->\")\n",
    "plt.title(\"BUYING VS ACCEPTBILITY\")\n",
    "plt.show()"
   ]
  },
  {
   "cell_type": "code",
   "execution_count": 174,
   "metadata": {},
   "outputs": [
    {
     "data": {
      "image/png": "[encoded data removed]",
      "text/plain": [
       "<Figure size 1080x720 with 1 Axes>"
      ]
     },
     "metadata": {
      "needs_background": "light"
     },
     "output_type": "display_data"
    }
   ],
   "source": [
    "plt.figure(figsize = (15,10))\n",
    "ax = sns.barplot(x=data[\"buying\"],y=data[\"acceptability_a\"])\n",
    "plt.xticks(rotation = 90)\n",
    "plt.xlabel(\"BUYING : --->\")\n",
    "plt.ylabel(\"ACCEPTBILITY : --->\")\n",
    "plt.title(\"BUYING VS ACCEPTBILITY\")\n",
    "plt.show()"
   ]
  },
  {
   "cell_type": "markdown",
   "metadata": {},
   "source": [
    "##### 4. Split the data into training set and testing set.  Perform 10-fold cross validation.\n",
    "##### Training Data:\n",
    "###### 5. Train a Logistic regression model for the dataset. \n",
    "###### 6. Display the coefficients and form the logistic regression equation. "
   ]
  },
  {
   "cell_type": "markdown",
   "metadata": {},
   "source": [
    "###### Performed 10-fold cross validation and found each fold accuracy and average accuracy"
   ]
  },
  {
   "cell_type": "code",
   "execution_count": 175,
   "metadata": {},
   "outputs": [
    {
     "name": "stdout",
     "output_type": "stream",
     "text": [
      "\n",
      "ACCEPTABILITY ARRAY :  [0 0 0 ... 0 2 3]\n",
      "\n",
      "ACCURACY OF EACH FOLD - [1.0, 0.7687861271676301, 0.815028901734104, 0.7341040462427746, 0.6416184971098265, 0.6936416184971098, 0.5838150289017341, 0.6242774566473989, 0.5872093023255814, 0.5523255813953488]\n",
      "\n",
      "AVERAGE ACCURACY : 0.7000806560021509\n"
     ]
    }
   ],
   "source": [
    "X = np.array(data['maint_a']).reshape((-1,1))\n",
    "Y = np.array(data['acceptability_a'])\n",
    "print(\"\\nACCEPTABILITY ARRAY : \",y)\n",
    "k = 10\n",
    "kf = KFold(n_splits=k, random_state=None)\n",
    "model = LogisticRegression(solver= 'liblinear')\n",
    " \n",
    "acc_score = []\n",
    " \n",
    "for train_index , test_index in kf.split(X):\n",
    "    X_train , X_test = X[train_index],X[test_index]\n",
    "    y_train , y_test = Y[train_index] , Y[test_index]\n",
    "     \n",
    "    model.fit(X_train,y_train)\n",
    "    pred_values = model.predict(X_test)\n",
    "     \n",
    "    acc = accuracy_score(pred_values , y_test)\n",
    "    acc_score.append(acc)\n",
    "     \n",
    "avg_acc_score = sum(acc_score)/k\n",
    " \n",
    "print('\\nACCURACY OF EACH FOLD - {}\\n'.format(acc_score))\n",
    "print('AVERAGE ACCURACY : {}'.format(avg_acc_score))"
   ]
  },
  {
   "cell_type": "code",
   "execution_count": 176,
   "metadata": {},
   "outputs": [
    {
     "name": "stdout",
     "output_type": "stream",
     "text": [
      "X_TEST :\n",
      " [[3]\n",
      " [3]\n",
      " [3]\n",
      " [3]\n",
      " [3]\n",
      " [3]\n",
      " [3]\n",
      " [3]\n",
      " [3]\n",
      " [3]]\n",
      "\n",
      "Y_TEST :  [0 1 2 0 1 2 0 1 2 0]\n",
      "\n",
      "COEFFICIENT/SLOPE :  [0.]\n",
      "\n",
      "INTERCEPT :  0.9\n"
     ]
    },
    {
     "data": {
      "image/png": "[encoded data removed]",
      "text/plain": [
       "<Figure size 432x288 with 1 Axes>"
      ]
     },
     "metadata": {
      "needs_background": "light"
     },
     "output_type": "display_data"
    }
   ],
   "source": [
    "x_train = np.array(data['buying_a'].head(10)).reshape((-1,1))\n",
    "y_train = np.array(data['safety_a'].head(10))\n",
    "model=LinearRegression().fit(x_train,y_train)\n",
    "print(\"X_TEST :\\n\",x_train)\n",
    "print(\"\\nY_TEST : \",y_train)\n",
    "print(\"\\nCOEFFICIENT/SLOPE : \",model.coef_)\n",
    "print(\"\\nINTERCEPT : \",model.intercept_)\n",
    "#plt.scatter(x_test,y_test)\n",
    "plt.title('REGRESSION MODEL OF TRAINING DATA ')\n",
    "plt.xlabel('TRAIN BUYING : ')\n",
    "plt.ylabel('TRAIN ACCEPTABILITY : ')\n",
    "plt.plot(x_train, y_train,'o')\n",
    "plt.plot(x_train, model.coef_*x_train + model.intercept_)\n",
    "plt.show()"
   ]
  },
  {
   "cell_type": "markdown",
   "metadata": {},
   "source": [
    "##### Test Data:\n",
    "###### 5. Train a Logistic regression model for the dataset. \n",
    "###### 6. Display the coefficients and form the logistic regression equation. "
   ]
  },
  {
   "cell_type": "code",
   "execution_count": 177,
   "metadata": {},
   "outputs": [
    {
     "name": "stdout",
     "output_type": "stream",
     "text": [
      "X_TEST :\n",
      " [[3]\n",
      " [3]\n",
      " [3]\n",
      " ...\n",
      " [0]\n",
      " [0]\n",
      " [0]]\n",
      "\n",
      "Y_TEST :  [0 0 0 ... 0 2 3]\n",
      "\n",
      "COEFFICIENT/SLOPE :  [-0.18726852]\n",
      "\n",
      "INTERCEPT :  0.695833333333333\n"
     ]
    },
    {
     "data": {
      "image/png": "[encoded data removed]",
      "text/plain": [
       "<Figure size 432x288 with 1 Axes>"
      ]
     },
     "metadata": {
      "needs_background": "light"
     },
     "output_type": "display_data"
    }
   ],
   "source": [
    "Splitx = np.array_split(data['buying_a'],1)\n",
    "Splity = np.array_split(data['acceptability_a'],1)\n",
    "x_test1 = np.array(Splitx[0]).reshape((-1,1))\n",
    "y_test1 = np.array(Splity[0])\n",
    "x_test1.reshape(-1,1)\n",
    "model=LinearRegression().fit(x_test1,y_test1)\n",
    "print(\"X_TEST :\\n\",x_test1)\n",
    "print(\"\\nY_TEST : \",y_test1)\n",
    "print(\"\\nCOEFFICIENT/SLOPE : \",model.coef_)\n",
    "print(\"\\nINTERCEPT : \",model.intercept_)\n",
    "#plt.scatter(x_test,y_test)\n",
    "plt.title('REGRESSION MODEL OF TEST DATA ')\n",
    "plt.xlabel('TEST BUYING : ')\n",
    "plt.ylabel('TEST ACCEPTABILITY : ')\n",
    "plt.plot(x_test1, y_test1,'o')\n",
    "plt.plot(x_test1, model.coef_*x_test1 + model.intercept_)\n",
    "plt.show()"
   ]
  },
  {
   "cell_type": "code",
   "execution_count": 178,
   "metadata": {},
   "outputs": [
    {
     "name": "stdout",
     "output_type": "stream",
     "text": [
      "X_TEST :\n",
      " [[3]\n",
      " [3]\n",
      " [3]\n",
      " ...\n",
      " [0]\n",
      " [0]\n",
      " [0]]\n",
      "\n",
      "Y_TEST :  [3 3 3 ... 0 0 0]\n",
      "\n",
      "COEFFICIENT/SLOPE :  [1.5441083e-17]\n",
      "\n",
      "INTERCEPT :  1.5\n"
     ]
    },
    {
     "data": {
      "image/png": "[encoded data removed]",
      "text/plain": [
       "<Figure size 432x288 with 1 Axes>"
      ]
     },
     "metadata": {
      "needs_background": "light"
     },
     "output_type": "display_data"
    }
   ],
   "source": [
    "Splitx = np.array_split(data['buying_a'],1)\n",
    "Splity = np.array_split(data['maint_a'],1)\n",
    "x_test1 = np.array(Splitx[0]).reshape((-1,1))\n",
    "y_test1 = np.array(Splity[0])\n",
    "x_test1.reshape(-1,1)\n",
    "model=LinearRegression().fit(x_test1,y_test1)\n",
    "print(\"X_TEST :\\n\",x_test1)\n",
    "print(\"\\nY_TEST : \",y_test1)\n",
    "print(\"\\nCOEFFICIENT/SLOPE : \",model.coef_)\n",
    "print(\"\\nINTERCEPT : \",model.intercept_)\n",
    "#plt.scatter(x_test,y_test)\n",
    "plt.title('REGRESSION MODEL OF TEST DATA ')\n",
    "plt.xlabel('TEST BUYING : ')\n",
    "plt.ylabel('TEST MAINTANENCE : ')\n",
    "plt.plot(x_test1, y_test1,'o')\n",
    "plt.plot(x_test1, model.coef_*x_test1 + model.intercept_)\n",
    "plt.show()"
   ]
  },
  {
   "cell_type": "code",
   "execution_count": 179,
   "metadata": {},
   "outputs": [
    {
     "name": "stdout",
     "output_type": "stream",
     "text": [
      "X_TEST :\n",
      " [[3]\n",
      " [3]\n",
      " [3]\n",
      " ...\n",
      " [0]\n",
      " [0]\n",
      " [0]]\n",
      "\n",
      "Y_TEST :  [0 0 0 ... 2 2 2]\n",
      "\n",
      "COEFFICIENT/SLOPE :  [-4.30381617e-19]\n",
      "\n",
      "INTERCEPT :  1.0\n"
     ]
    },
    {
     "data": {
      "image/png": "[encoded data removed]",
      "text/plain": [
       "<Figure size 432x288 with 1 Axes>"
      ]
     },
     "metadata": {
      "needs_background": "light"
     },
     "output_type": "display_data"
    }
   ],
   "source": [
    "Splitx = np.array_split(data['buying_a'],1)\n",
    "Splity = np.array_split(data['lug_boot_a'],1)\n",
    "x_test1 = np.array(Splitx[0]).reshape((-1,1))\n",
    "y_test1 = np.array(Splity[0])\n",
    "x_test1.reshape(-1,1)\n",
    "model=LinearRegression().fit(x_test1,y_test1)\n",
    "print(\"X_TEST :\\n\",x_test1)\n",
    "print(\"\\nY_TEST : \",y_test1)\n",
    "print(\"\\nCOEFFICIENT/SLOPE : \",model.coef_)\n",
    "print(\"\\nINTERCEPT : \",model.intercept_)\n",
    "#plt.scatter(x_test,y_test)\n",
    "plt.title('REGRESSION MODEL OF TEST DATA ')\n",
    "plt.xlabel('TEST BUYING : ')\n",
    "plt.ylabel('TEST LUG_BOOT : ')\n",
    "plt.plot(x_test1, y_test1,'o')\n",
    "plt.plot(x_test1, model.coef_*x_test1 + model.intercept_)\n",
    "plt.show()"
   ]
  },
  {
   "cell_type": "markdown",
   "metadata": {},
   "source": [
    "##### 7 Compute the accuracy and confusion matrix. "
   ]
  },
  {
   "cell_type": "markdown",
   "metadata": {},
   "source": [
    "###### ACCURACY : "
   ]
  },
  {
   "cell_type": "code",
   "execution_count": 180,
   "metadata": {},
   "outputs": [
    {
     "name": "stdout",
     "output_type": "stream",
     "text": [
      "[[3]\n",
      " [3]\n",
      " [3]\n",
      " ...\n",
      " [0]\n",
      " [0]\n",
      " [0]]\n",
      "[0 0 0 ... 0 2 3]\n",
      "[1. 1. 1. ... 1. 1. 1.]\n",
      "\n",
      "CONFUSION MATRIX (2D) : \n",
      " [[   0 1210    0    0]\n",
      " [   0  384    0    0]\n",
      " [   0   69    0    0]\n",
      " [   0   65    0    0]]\n",
      "\n",
      "CONFUSION MATRIX CLASSIFICATION REPORT INCLUDE ALL ATTRIBUTES OF CM : \n",
      "               precision    recall  f1-score   support\n",
      "\n",
      "           0       0.00      0.00      0.00      1210\n",
      "           1       0.22      1.00      0.36       384\n",
      "           2       0.00      0.00      0.00        69\n",
      "           3       0.00      0.00      0.00        65\n",
      "\n",
      "    accuracy                           0.22      1728\n",
      "   macro avg       0.06      0.25      0.09      1728\n",
      "weighted avg       0.05      0.22      0.08      1728\n",
      "\n",
      "\n",
      "CONFUSION MATRIX GRAPH:\n",
      "\n"
     ]
    },
    {
     "data": {
      "image/png": "[encoded data removed]",
      "text/plain": [
       "<Figure size 720x360 with 2 Axes>"
      ]
     },
     "metadata": {
      "needs_background": "light"
     },
     "output_type": "display_data"
    }
   ],
   "source": [
    "Splitx = np.array_split(data['buying_a'],1)\n",
    "Splity = np.array_split(data['acceptability_a'],1)\n",
    "x_rest = np.array(Splitx[0]).reshape((-1,1))\n",
    "print(x_rest)\n",
    "y_true = np.array(Splity[0])\n",
    "print(y_true)\n",
    "y_pred = np.array((model.predict(x_rest)))\n",
    "y_pred = y_pred.round(decimals=0)\n",
    "print(y_pred)\n",
    "fig, ax = plt.subplots(figsize=(10, 5))\n",
    "cm = confusion_matrix(y_true, y_pred)\n",
    "print(\"\\nCONFUSION MATRIX (2D) : \\n\",cm)\n",
    "#tp, fn, fp, tn = confusion_matrix(y_true,y_pred,labels=[0,1]).reshape(-1)\n",
    "#print('Outcome values : \\n', tp, fn, fp, tn)\n",
    "# classification report for precision, recall f1-score and accuracy\n",
    "matrix = classification_report(y_true,y_pred)\n",
    "print('\\nCONFUSION MATRIX CLASSIFICATION REPORT INCLUDE ALL ATTRIBUTES OF CM : \\n',matrix)\n",
    "print(\"\\nCONFUSION MATRIX GRAPH:\\n\")\n",
    "cm_display = ConfusionMatrixDisplay(cm).plot(ax=ax)"
   ]
  },
  {
   "cell_type": "code",
   "execution_count": 181,
   "metadata": {},
   "outputs": [
    {
     "name": "stdout",
     "output_type": "stream",
     "text": [
      "[[3]\n",
      " [3]\n",
      " [3]\n",
      " ...\n",
      " [0]\n",
      " [0]\n",
      " [0]]\n",
      "[0 0 0 ... 2 2 2]\n",
      "[1. 1. 1. ... 1. 1. 1.]\n",
      "\n",
      "CONFUSION MATRIX (2D) : \n",
      " [[  0 576   0]\n",
      " [  0 576   0]\n",
      " [  0 576   0]]\n",
      "\n",
      "CONFUSION MATRIX CLASSIFICATION REPORT INCLUDE ALL ATTRIBUTES OF CM : \n",
      "               precision    recall  f1-score   support\n",
      "\n",
      "           0       0.00      0.00      0.00       576\n",
      "           1       0.33      1.00      0.50       576\n",
      "           2       0.00      0.00      0.00       576\n",
      "\n",
      "    accuracy                           0.33      1728\n",
      "   macro avg       0.11      0.33      0.17      1728\n",
      "weighted avg       0.11      0.33      0.17      1728\n",
      "\n",
      "\n",
      "CONFUSION MATRIX GRAPH:\n",
      "\n"
     ]
    },
    {
     "data": {
      "image/png": "[encoded data removed]",
      "text/plain": [
       "<Figure size 720x360 with 2 Axes>"
      ]
     },
     "metadata": {
      "needs_background": "light"
     },
     "output_type": "display_data"
    }
   ],
   "source": [
    "Splitx = np.array_split(data['buying_a'],1)\n",
    "Splity = np.array_split(data['lug_boot_a'],1)\n",
    "x_rest = np.array(Splitx[0]).reshape((-1,1))\n",
    "print(x_rest)\n",
    "y_true = np.array(Splity[0])\n",
    "print(y_true)\n",
    "y_pred = np.array((model.predict(x_rest)))\n",
    "y_pred = y_pred.round(decimals=0)\n",
    "print(y_pred)\n",
    "fig, ax = plt.subplots(figsize=(10, 5))\n",
    "cm = confusion_matrix(y_true, y_pred)\n",
    "print(\"\\nCONFUSION MATRIX (2D) : \\n\",cm)\n",
    "#tp, fn, fp, tn = confusion_matrix(y_true,y_pred,labels=[0,1]).reshape(-1)\n",
    "#print('Outcome values : \\n', tp, fn, fp, tn)\n",
    "# classification report for precision, recall f1-score and accuracy\n",
    "matrix = classification_report(y_true,y_pred)\n",
    "print('\\nCONFUSION MATRIX CLASSIFICATION REPORT INCLUDE ALL ATTRIBUTES OF CM : \\n',matrix)\n",
    "print(\"\\nCONFUSION MATRIX GRAPH:\\n\")\n",
    "cm_display = ConfusionMatrixDisplay(cm).plot(ax=ax)"
   ]
  },
  {
   "cell_type": "markdown",
   "metadata": {},
   "source": [
    "##### 8 Display the correlation between all the attributes. "
   ]
  },
  {
   "cell_type": "code",
   "execution_count": 182,
   "metadata": {},
   "outputs": [
    {
     "name": "stdout",
     "output_type": "stream",
     "text": [
      "CORRELATION COEFFICIENT FOR BUYING AND ACCEPTABILITY : \n",
      "\n",
      " [[ 1.        -0.2827504]\n",
      " [-0.2827504  1.       ]]\n"
     ]
    }
   ],
   "source": [
    "x_test1 = np.array(data['buying_a'])\n",
    "y_test1 = np.array(data['acceptability_a'])\n",
    "corr_matrix= np.corrcoef(x_test1,y_test1)\n",
    "print(\"CORRELATION COEFFICIENT FOR BUYING AND ACCEPTABILITY : \\n\\n\", corr_matrix)"
   ]
  },
  {
   "cell_type": "code",
   "execution_count": 183,
   "metadata": {},
   "outputs": [
    {
     "name": "stdout",
     "output_type": "stream",
     "text": [
      "CORRELATION COEFFICIENT FOR BUYING AND MAINTANENCE : \n",
      "\n",
      " [[1. 0.]\n",
      " [0. 1.]]\n"
     ]
    }
   ],
   "source": [
    "x_test1 = np.array(data['buying_a'])\n",
    "y_test1 = np.array(data['maint_a'])\n",
    "corr_matrix= np.corrcoef(x_test1,y_test1)\n",
    "print(\"CORRELATION COEFFICIENT FOR BUYING AND MAINTANENCE : \\n\\n\", corr_matrix)"
   ]
  },
  {
   "cell_type": "code",
   "execution_count": 184,
   "metadata": {},
   "outputs": [
    {
     "name": "stdout",
     "output_type": "stream",
     "text": [
      "CORRELATION COEFFICIENT FOR BUYING AND LUG BOOT : \n",
      "\n",
      " [[1. 0.]\n",
      " [0. 1.]]\n"
     ]
    }
   ],
   "source": [
    "x_test1 = np.array(data['buying_a'])\n",
    "y_test1 = np.array(data['lug_boot_a'])\n",
    "corr_matrix= np.corrcoef(x_test1,y_test1)\n",
    "print(\"CORRELATION COEFFICIENT FOR BUYING AND LUG BOOT : \\n\\n\", corr_matrix)"
   ]
  },
  {
   "cell_type": "code",
   "execution_count": 185,
   "metadata": {},
   "outputs": [
    {
     "name": "stdout",
     "output_type": "stream",
     "text": [
      "CORRELATION COEFFICIENT FOR BUYING AND SAFETY : \n",
      "\n",
      " [[1. 0.]\n",
      " [0. 1.]]\n"
     ]
    }
   ],
   "source": [
    "x_test1 = np.array(data['buying_a'])\n",
    "y_test1 = np.array(data['safety_a'])\n",
    "corr_matrix= np.corrcoef(x_test1,y_test1)\n",
    "print(\"CORRELATION COEFFICIENT FOR BUYING AND SAFETY : \\n\\n\", corr_matrix)"
   ]
  },
  {
   "cell_type": "markdown",
   "metadata": {},
   "source": [
    "### THANK YOU"
   ]
  }
 ],
 "metadata": {
  "kernelspec": {
   "display_name": "Python 3",
   "language": "python",
   "name": "python3"
  },
  "language_info": {
   "codemirror_mode": {
    "name": "ipython",
    "version": 3
   },
   "file_extension": ".py",
   "mimetype": "text/x-python",
   "name": "python",
   "nbconvert_exporter": "python",
   "pygments_lexer": "ipython3",
   "version": "3.8.3"
  }
 },
 "nbformat": 4,
 "nbformat_minor": 4
}
